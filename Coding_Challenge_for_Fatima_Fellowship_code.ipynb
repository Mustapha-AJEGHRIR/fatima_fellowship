{
  "cells": [
    {
      "cell_type": "markdown",
      "metadata": {
        "id": "eBpjBBZc6IvA"
      },
      "source": [
        "# Fatima Fellowship Quick Coding Challenge (Pick 1)\n",
        "\n",
        "Thank you for applying to the Fatima Fellowship. To help us select the Fellows and assess your ability to do machine learning research, we are asking that you complete a short coding challenge. Please pick **1 of these 5** coding challenges, whichever is most aligned with your interests. \n",
        "\n",
        "**Due date: 1 week**\n",
        "\n",
        "**How to submit**: Please make a copy of this colab notebook, add your code and results, and submit your colab notebook to the submission link below. If you have never used a colab notebook, [check out this video](https://www.youtube.com/watch?v=i-HnvsehuSw).\n",
        "\n",
        "**Submission link**: https://airtable.com/shrXy3QKSsO2yALd3"
      ]
    },
    {
      "cell_type": "markdown",
      "metadata": {
        "id": "braBzmRpMe7_"
      },
      "source": [
        "# 1. Deep Learning for Vision"
      ]
    },
    {
      "cell_type": "markdown",
      "metadata": {
        "id": "1IWw-NZf5WfF"
      },
      "source": [
        "**Upside down detector**: Train a model to detect if images are upside down\n",
        "\n",
        "* Pick a dataset of natural images (we suggest looking at datasets on the [Hugging Face Hub](https://huggingface.co/datasets?task_categories=task_categories:image-classification&sort=downloads))\n",
        "* Synthetically turn some of images upside down. Create a training and test set.\n",
        "* Build a neural network (using Tensorflow, PyTorch, or any framework you like)\n",
        "* Train it to classify image orientation until a reasonable accuracy is reached\n",
        "* [Upload the the model to the Hugging Face Hub](https://huggingface.co/docs/hub/adding-a-model), and add a link to your model below.\n",
        "* Look at some of the images that were classified incorrectly. Please explain what you might do to improve your model's performance on these images in the future (you do not need to impelement these suggestions)\n",
        "\n",
        "**Submission instructions**: Please write your code below and include some examples of images that were classified"
      ]
    },
    {
      "cell_type": "markdown",
      "metadata": {
        "id": "FX0L65qkGKE1"
      },
      "source": [
        "### Hugging face"
      ]
    },
    {
      "cell_type": "code",
      "execution_count": 1,
      "metadata": {
        "id": "a4RGRWLDGJmA"
      },
      "outputs": [],
      "source": [
        "# %pip install transformers datasets -q"
      ]
    },
    {
      "cell_type": "markdown",
      "metadata": {
        "id": "HWujx6AKHzA_"
      },
      "source": [
        "### Essentials"
      ]
    },
    {
      "cell_type": "code",
      "execution_count": 1,
      "metadata": {
        "id": "JQ5RW7NUHz_U"
      },
      "outputs": [],
      "source": [
        "import numpy as np"
      ]
    },
    {
      "cell_type": "markdown",
      "metadata": {
        "id": "nSy1Rc_JE4Un"
      },
      "source": [
        "### Dowload dataset"
      ]
    },
    {
      "cell_type": "code",
      "execution_count": 2,
      "metadata": {
        "colab": {
          "base_uri": "https://localhost:8080/",
          "height": 240,
          "referenced_widgets": [
            "f382bd953d1244e1972d147d03a041c6",
            "b6b429845eeb409190431c0114148696",
            "1dcadb15d0e5488bb5a42002716c41cd",
            "018b957eb57e4ae3bb71666892c04dab",
            "be98a1e423ff463290f5753ba2b939f4",
            "4f5a286f64f04d618c99ce629b9e3e59",
            "cf40ed594ddd464d980b30bb818741b1",
            "5725de496e3947d6ad4beb4b3119deb4",
            "e7ef1f9fbbe043479a85218e938752bf",
            "55ced4fc123d43a0b5fc57e8785310ed",
            "74634b0ec8b849868ef34dc7f651058b"
          ]
        },
        "id": "Z_6eNOpxE9L0",
        "outputId": "01954ae4-3037-452c-8cde-e07304e040b6"
      },
      "outputs": [
        {
          "name": "stderr",
          "output_type": "stream",
          "text": [
            "/home/mus5900/anaconda3/envs/nlp_2/lib/python3.9/site-packages/tqdm/auto.py:22: TqdmWarning: IProgress not found. Please update jupyter and ipywidgets. See https://ipywidgets.readthedocs.io/en/stable/user_install.html\n",
            "  from .autonotebook import tqdm as notebook_tqdm\n",
            "Reusing dataset cifar10 (/mnt/c/Users/Mustapha/.cache/huggingface/datasets/cifar10/plain_text/1.0.0/447d6ec4733dddd1ce3bb577c7166b986eaa4c538dcd9e805ba61f35674a9de4)\n",
            "100%|██████████| 2/2 [00:00<00:00, 17.93it/s]\n"
          ]
        },
        {
          "data": {
            "text/plain": [
              "DatasetDict({\n",
              "    train: Dataset({\n",
              "        features: ['img', 'label'],\n",
              "        num_rows: 50000\n",
              "    })\n",
              "    test: Dataset({\n",
              "        features: ['img', 'label'],\n",
              "        num_rows: 10000\n",
              "    })\n",
              "})"
            ]
          },
          "execution_count": 2,
          "metadata": {},
          "output_type": "execute_result"
        }
      ],
      "source": [
        "from datasets import load_dataset\n",
        "dataset = load_dataset('cifar10')\n",
        "dataset"
      ]
    },
    {
      "cell_type": "code",
      "execution_count": 3,
      "metadata": {
        "colab": {
          "base_uri": "https://localhost:8080/"
        },
        "id": "uq4XMxm6Gdvg",
        "outputId": "8b664e92-4965-423a-f0f1-c1b5656cabfb"
      },
      "outputs": [
        {
          "data": {
            "text/plain": [
              "(32, 32, 3)"
            ]
          },
          "execution_count": 3,
          "metadata": {},
          "output_type": "execute_result"
        }
      ],
      "source": [
        "im = dataset[\"train\"][\"img\"][0]\n",
        "np.array(im).shape"
      ]
    },
    {
      "cell_type": "code",
      "execution_count": 4,
      "metadata": {},
      "outputs": [
        {
          "data": {
            "text/plain": [
              "PIL.PngImagePlugin.PngImageFile"
            ]
          },
          "execution_count": 4,
          "metadata": {},
          "output_type": "execute_result"
        }
      ],
      "source": [
        "type(im)"
      ]
    },
    {
      "cell_type": "markdown",
      "metadata": {
        "id": "KXKWqbbJH5Cf"
      },
      "source": [
        "### Get model"
      ]
    },
    {
      "cell_type": "code",
      "execution_count": 5,
      "metadata": {
        "id": "zfq6wZjnMPr6"
      },
      "outputs": [],
      "source": [
        "id2label = {\"0\": \"unflipped\", \"1\": \"flipped\"}\n",
        "label2id = {\"unflipped\": 0, \"flipped\": 1}"
      ]
    },
    {
      "cell_type": "code",
      "execution_count": 6,
      "metadata": {
        "colab": {
          "base_uri": "https://localhost:8080/"
        },
        "id": "wnbP3YzzJkV6",
        "outputId": "2497659e-01d6-4341-a302-a77ac8e2ff3d"
      },
      "outputs": [
        {
          "name": "stdout",
          "output_type": "stream",
          "text": [
            "Used deivce : cuda\n"
          ]
        }
      ],
      "source": [
        "from transformers import ViTForImageClassification\n",
        "from transformers import ViTConfig\n",
        "import torch\n",
        "\n",
        "device = torch.device('cuda' if torch.cuda.is_available() else 'cpu')\n",
        "print(\"Used deivce :\", device)\n",
        "\n",
        "model = ViTForImageClassification.from_pretrained('google/vit-base-patch16-224')\n",
        "model.classifier = torch.nn.Linear(in_features=768, out_features = 2)\n",
        "\n",
        "config = model.config.to_dict()\n",
        "config[\"id2label\"] = id2label\n",
        "config[\"label2id\"] = label2id\n",
        "\n",
        "model.config = ViTConfig.from_dict(config) \n",
        "\n",
        "# model.eval()\n",
        "model.train()\n",
        "model.to(device);"
      ]
    },
    {
      "cell_type": "code",
      "execution_count": null,
      "metadata": {
        "colab": {
          "base_uri": "https://localhost:8080/"
        },
        "id": "L3kJYMAXH9Ff",
        "outputId": "4fe958ad-5d0b-407a-89eb-f374e86819dd"
      },
      "outputs": [
        {
          "name": "stderr",
          "output_type": "stream",
          "text": [
            "/home/mus5900/anaconda3/envs/nlp_2/lib/python3.9/site-packages/transformers/feature_extraction_utils.py:158: UserWarning: Creating a tensor from a list of numpy.ndarrays is extremely slow. Please consider converting the list to a single numpy.ndarray with numpy.array() before converting to a tensor. (Triggered internally at  ../torch/csrc/utils/tensor_new.cpp:210.)\n",
            "  tensor = as_tensor(value)\n"
          ]
        },
        {
          "data": {
            "text/plain": [
              "dict_keys(['pixel_values'])"
            ]
          },
          "execution_count": 7,
          "metadata": {},
          "output_type": "execute_result"
        }
      ],
      "source": [
        "from transformers import ViTFeatureExtractor\n",
        "\n",
        "feature_extractor = ViTFeatureExtractor.from_pretrained('google/vit-base-patch16-224')\n",
        "encoding = feature_extractor(images=im, return_tensors=\"pt\")\n",
        "encoding.keys()"
      ]
    },
    {
      "cell_type": "markdown",
      "metadata": {
        "id": "RbOgXBs6vC44"
      },
      "source": [
        "#### Lets look at how the Features extractor works"
      ]
    },
    {
      "cell_type": "code",
      "execution_count": null,
      "metadata": {
        "colab": {
          "base_uri": "https://localhost:8080/"
        },
        "id": "-8_Jbv4PJCIS",
        "outputId": "1ccedb57-cc2a-4808-d1de-33a4d2f1942e"
      },
      "outputs": [
        {
          "data": {
            "text/plain": [
              "torch.Size([1, 3, 224, 224])"
            ]
          },
          "execution_count": 8,
          "metadata": {},
          "output_type": "execute_result"
        }
      ],
      "source": [
        "encoding['pixel_values'].shape"
      ]
    },
    {
      "cell_type": "code",
      "execution_count": null,
      "metadata": {
        "colab": {
          "base_uri": "https://localhost:8080/"
        },
        "id": "6JGlMSKNvLYw",
        "outputId": "d20eb777-83b2-4431-8dbc-6660306e162d"
      },
      "outputs": [
        {
          "data": {
            "text/plain": [
              "torch.float32"
            ]
          },
          "execution_count": 9,
          "metadata": {},
          "output_type": "execute_result"
        }
      ],
      "source": [
        "encoding['pixel_values'].dtype"
      ]
    },
    {
      "cell_type": "code",
      "execution_count": null,
      "metadata": {
        "colab": {
          "base_uri": "https://localhost:8080/",
          "height": 286
        },
        "id": "rNvbBl2nJpcG",
        "outputId": "a295c6cc-bb30-4f85-8427-8cc2e19b5221"
      },
      "outputs": [
        {
          "data": {
            "text/plain": [
              "<matplotlib.image.AxesImage at 0x7fbc3f1c1910>"
            ]
          },
          "execution_count": 13,
          "metadata": {},
          "output_type": "execute_result"
        },
        {
          "data": {
            "image/png": "[encoded data removed]",
            "text/plain": [
              "<Figure size 432x288 with 1 Axes>"
            ]
          },
          "metadata": {
            "needs_background": "light"
          },
          "output_type": "display_data"
        }
      ],
      "source": [
        "import torch\n",
        "import matplotlib.pyplot as plt\n",
        "\n",
        "a = torch.permute(encoding['pixel_values'], dims=[0,2,3,1]).reshape([224,224,3])*128 + 128\n",
        "b = a.numpy().astype(np.uint8)\n",
        "plt.imshow(b)"
      ]
    },
    {
      "cell_type": "markdown",
      "metadata": {
        "id": "ZAipWaWBvamt"
      },
      "source": [
        "### Create our dataset"
      ]
    },
    {
      "cell_type": "markdown",
      "metadata": {
        "id": "JTDNvA_8xJjd"
      },
      "source": [
        "`P_FLIP` determines the proportion of flipped images."
      ]
    },
    {
      "cell_type": "markdown",
      "metadata": {
        "id": "15-gsRwlyG7E"
      },
      "source": [
        "Lets now take the convention :\n",
        "```\n",
        "Flipped images   => label = 1\n",
        "Unflipped imahes => label = 0\n",
        "```"
      ]
    },
    {
      "cell_type": "code",
      "execution_count": null,
      "metadata": {
        "id": "VneE9MpTxEid"
      },
      "outputs": [],
      "source": [
        "P_FLIP = 0.5"
      ]
    },
    {
      "cell_type": "code",
      "execution_count": null,
      "metadata": {
        "id": "uOTZj9tVwC0F"
      },
      "outputs": [],
      "source": [
        "from PIL import Image, ImageOps\n",
        "\n",
        "def flip_img(img):\n",
        "  return ImageOps.flip(img)"
      ]
    },
    {
      "cell_type": "code",
      "execution_count": null,
      "metadata": {
        "id": "ko3uzrhhvqhb"
      },
      "outputs": [],
      "source": [
        "import random as rd\n",
        "\n",
        "def flip_label(x, p=P_FLIP, **kwargs):\n",
        "  if rd.random() > p:\n",
        "    x[\"img\"] = flip_img(x[\"img\"])\n",
        "    x[\"label\"] = 1\n",
        "  else :\n",
        "    x[\"img\"] = x[\"img\"].convert('RGB') # Just to convert from PIL.PngImagePlugin.PngImageFile to PIL.Image.Image (otherwise, it will not be happy :D)\n",
        "    x[\"label\"] = 0\n",
        "  # enc = feature_extractor(images=x[\"img\"], return_tensors=\"pt\")\n",
        "  # x['pixel_values'] = enc['pixel_values']\n",
        "  return x\n",
        "\n",
        "def batch_flip_label(batch_x, **kwargs):\n",
        "  # print(batch_x[\"label\"])\n",
        "  imgs = batch_x[\"img\"]\n",
        "  labels = batch_x[\"label\"]\n",
        "  batch_res = {\"img\" : [], \"label\": []}\n",
        "  zipped_data = zip(imgs, labels)\n",
        "  for i, data in enumerate(zipped_data):\n",
        "    x = {\"img\" : data[0], \"label\" : data[1]}\n",
        "    res = flip_label(x, **kwargs)\n",
        "    batch_res[\"img\"].append(res[\"img\"])\n",
        "    batch_res[\"label\"].append(res[\"label\"])\n",
        "  return batch_res\n"
      ]
    },
    {
      "cell_type": "code",
      "execution_count": null,
      "metadata": {
        "colab": {
          "base_uri": "https://localhost:8080/"
        },
        "id": "wEgnYn8tw1w3",
        "outputId": "5d55ec00-21be-4961-a595-a9b7f844f733"
      },
      "outputs": [],
      "source": [
        "rd.seed(41)\n",
        "flipped_dataset = dataset.map(batch_flip_label, batch_size=64, batched=True, num_proc=4)"
      ]
    },
    {
      "cell_type": "code",
      "execution_count": null,
      "metadata": {
        "id": "Lurln1AmNzod"
      },
      "outputs": [],
      "source": [
        "train, test = flipped_dataset[\"train\"], flipped_dataset[\"test\"]"
      ]
    },
    {
      "cell_type": "code",
      "execution_count": null,
      "metadata": {
        "id": "NZ5oVhpSDtGX"
      },
      "outputs": [],
      "source": [
        "# mm = train[:64]['img']\n",
        "# enc = feature_extractor(images=mm, return_tensors=\"pt\")\n",
        "# enc[\"pixel_values\"].shape"
      ]
    },
    {
      "cell_type": "code",
      "execution_count": null,
      "metadata": {
        "id": "nqGQRNDPDlGb"
      },
      "outputs": [],
      "source": [
        "# model(enc['pixel_values'])"
      ]
    },
    {
      "cell_type": "markdown",
      "metadata": {
        "id": "lUvYJe0rD7ox"
      },
      "source": [
        "### Train"
      ]
    },
    {
      "cell_type": "code",
      "execution_count": null,
      "metadata": {
        "id": "pguFK_l6Gj68"
      },
      "outputs": [],
      "source": [
        "# from torch.utils.data import DataLoader\n",
        "\n",
        "# d_train = DataLoader(train, batch_size = 64, num_workers=2)\n",
        "# d_train = DataLoader(train, batch_size = 64, num_workers=2)"
      ]
    },
    {
      "cell_type": "code",
      "execution_count": null,
      "metadata": {
        "id": "i0T0ITgsGqud"
      },
      "outputs": [],
      "source": [
        "def batch_iterator(dataset=train, batch_size=4):\n",
        "    for i in range(0, len(dataset), batch_size):\n",
        "        yield dataset[i : i + batch_size]"
      ]
    },
    {
      "cell_type": "code",
      "execution_count": null,
      "metadata": {
        "colab": {
          "base_uri": "https://localhost:8080/"
        },
        "id": "JCEAq9IPGlO_",
        "outputId": "a165cfe0-db9d-42e5-f8c7-aa665a139a0b"
      },
      "outputs": [
        {
          "name": "stdout",
          "output_type": "stream",
          "text": [
            "*******************\n",
            "Epoch : 0 / 10\n"
          ]
        },
        {
          "ename": "RuntimeError",
          "evalue": "CUDA out of memory. Tried to allocate 20.00 MiB (GPU 0; 2.00 GiB total capacity; 744.37 MiB already allocated; 0 bytes free; 814.00 MiB reserved in total by PyTorch) If reserved memory is >> allocated memory try setting max_split_size_mb to avoid fragmentation.  See documentation for Memory Management and PYTORCH_CUDA_ALLOC_CONF",
          "output_type": "error",
          "traceback": [
            "\u001b[0;31m---------------------------------------------------------------------------\u001b[0m",
            "\u001b[0;31mRuntimeError\u001b[0m                              Traceback (most recent call last)",
            "\u001b[1;32m/mnt/c/Users/Mustapha/Documents/competitions/Fatima_fellowship/Coding_Challenge_for_Fatima_Fellowship_code.ipynb Cell 33'\u001b[0m in \u001b[0;36m<cell line: 12>\u001b[0;34m()\u001b[0m\n\u001b[1;32m     <a href='vscode-notebook-cell://wsl%2Bubuntu/mnt/c/Users/Mustapha/Documents/competitions/Fatima_fellowship/Coding_Challenge_for_Fatima_Fellowship_code.ipynb#ch0000034vscode-remote?line=22'>23</a>\u001b[0m pixel_values \u001b[39m=\u001b[39m feature_extractor(images\u001b[39m=\u001b[39mimgs, return_tensors\u001b[39m=\u001b[39m\u001b[39m\"\u001b[39m\u001b[39mpt\u001b[39m\u001b[39m\"\u001b[39m)[\u001b[39m\"\u001b[39m\u001b[39mpixel_values\u001b[39m\u001b[39m\"\u001b[39m]\u001b[39m.\u001b[39mto(device)\n\u001b[1;32m     <a href='vscode-notebook-cell://wsl%2Bubuntu/mnt/c/Users/Mustapha/Documents/competitions/Fatima_fellowship/Coding_Challenge_for_Fatima_Fellowship_code.ipynb#ch0000034vscode-remote?line=23'>24</a>\u001b[0m labels \u001b[39m=\u001b[39m torch\u001b[39m.\u001b[39mtensor(batch[\u001b[39m\"\u001b[39m\u001b[39mlabel\u001b[39m\u001b[39m\"\u001b[39m])\n\u001b[0;32m---> <a href='vscode-notebook-cell://wsl%2Bubuntu/mnt/c/Users/Mustapha/Documents/competitions/Fatima_fellowship/Coding_Challenge_for_Fatima_Fellowship_code.ipynb#ch0000034vscode-remote?line=25'>26</a>\u001b[0m proba \u001b[39m=\u001b[39m torch\u001b[39m.\u001b[39mnn\u001b[39m.\u001b[39mfunctional\u001b[39m.\u001b[39msoftmax(model(pixel_values)\u001b[39m.\u001b[39mlogits, dim \u001b[39m=\u001b[39m \u001b[39m-\u001b[39m\u001b[39m1\u001b[39m)\n\u001b[1;32m     <a href='vscode-notebook-cell://wsl%2Bubuntu/mnt/c/Users/Mustapha/Documents/competitions/Fatima_fellowship/Coding_Challenge_for_Fatima_Fellowship_code.ipynb#ch0000034vscode-remote?line=26'>27</a>\u001b[0m one_hot_labels \u001b[39m=\u001b[39m torch\u001b[39m.\u001b[39mnn\u001b[39m.\u001b[39mfunctional\u001b[39m.\u001b[39mone_hot(labels, \u001b[39m2\u001b[39m)\n\u001b[1;32m     <a href='vscode-notebook-cell://wsl%2Bubuntu/mnt/c/Users/Mustapha/Documents/competitions/Fatima_fellowship/Coding_Challenge_for_Fatima_Fellowship_code.ipynb#ch0000034vscode-remote?line=27'>28</a>\u001b[0m one_hot_labels \u001b[39m=\u001b[39m one_hot_labels\u001b[39m.\u001b[39mfloat()\n",
            "File \u001b[0;32m~/anaconda3/envs/nlp_2/lib/python3.9/site-packages/torch/nn/modules/module.py:1110\u001b[0m, in \u001b[0;36mModule._call_impl\u001b[0;34m(self, *input, **kwargs)\u001b[0m\n\u001b[1;32m   <a href='file:///home/mus5900/anaconda3/envs/nlp_2/lib/python3.9/site-packages/torch/nn/modules/module.py?line=1105'>1106</a>\u001b[0m \u001b[39m# If we don't have any hooks, we want to skip the rest of the logic in\u001b[39;00m\n\u001b[1;32m   <a href='file:///home/mus5900/anaconda3/envs/nlp_2/lib/python3.9/site-packages/torch/nn/modules/module.py?line=1106'>1107</a>\u001b[0m \u001b[39m# this function, and just call forward.\u001b[39;00m\n\u001b[1;32m   <a href='file:///home/mus5900/anaconda3/envs/nlp_2/lib/python3.9/site-packages/torch/nn/modules/module.py?line=1107'>1108</a>\u001b[0m \u001b[39mif\u001b[39;00m \u001b[39mnot\u001b[39;00m (\u001b[39mself\u001b[39m\u001b[39m.\u001b[39m_backward_hooks \u001b[39mor\u001b[39;00m \u001b[39mself\u001b[39m\u001b[39m.\u001b[39m_forward_hooks \u001b[39mor\u001b[39;00m \u001b[39mself\u001b[39m\u001b[39m.\u001b[39m_forward_pre_hooks \u001b[39mor\u001b[39;00m _global_backward_hooks\n\u001b[1;32m   <a href='file:///home/mus5900/anaconda3/envs/nlp_2/lib/python3.9/site-packages/torch/nn/modules/module.py?line=1108'>1109</a>\u001b[0m         \u001b[39mor\u001b[39;00m _global_forward_hooks \u001b[39mor\u001b[39;00m _global_forward_pre_hooks):\n\u001b[0;32m-> <a href='file:///home/mus5900/anaconda3/envs/nlp_2/lib/python3.9/site-packages/torch/nn/modules/module.py?line=1109'>1110</a>\u001b[0m     \u001b[39mreturn\u001b[39;00m forward_call(\u001b[39m*\u001b[39;49m\u001b[39minput\u001b[39;49m, \u001b[39m*\u001b[39;49m\u001b[39m*\u001b[39;49mkwargs)\n\u001b[1;32m   <a href='file:///home/mus5900/anaconda3/envs/nlp_2/lib/python3.9/site-packages/torch/nn/modules/module.py?line=1110'>1111</a>\u001b[0m \u001b[39m# Do not call functions when jit is used\u001b[39;00m\n\u001b[1;32m   <a href='file:///home/mus5900/anaconda3/envs/nlp_2/lib/python3.9/site-packages/torch/nn/modules/module.py?line=1111'>1112</a>\u001b[0m full_backward_hooks, non_full_backward_hooks \u001b[39m=\u001b[39m [], []\n",
            "File \u001b[0;32m~/anaconda3/envs/nlp_2/lib/python3.9/site-packages/transformers/models/vit/modeling_vit.py:598\u001b[0m, in \u001b[0;36mViTForImageClassification.forward\u001b[0;34m(self, pixel_values, head_mask, labels, output_attentions, output_hidden_states, return_dict)\u001b[0m\n\u001b[1;32m    <a href='file:///home/mus5900/anaconda3/envs/nlp_2/lib/python3.9/site-packages/transformers/models/vit/modeling_vit.py?line=568'>569</a>\u001b[0m \u001b[39mr\u001b[39m\u001b[39m\"\"\"\u001b[39;00m\n\u001b[1;32m    <a href='file:///home/mus5900/anaconda3/envs/nlp_2/lib/python3.9/site-packages/transformers/models/vit/modeling_vit.py?line=569'>570</a>\u001b[0m \u001b[39mlabels (:obj:`torch.LongTensor` of shape :obj:`(batch_size,)`, `optional`):\u001b[39;00m\n\u001b[1;32m    <a href='file:///home/mus5900/anaconda3/envs/nlp_2/lib/python3.9/site-packages/transformers/models/vit/modeling_vit.py?line=570'>571</a>\u001b[0m \u001b[39m    Labels for computing the image classification/regression loss. Indices should be in :obj:`[0, ...,\u001b[39;00m\n\u001b[0;32m   (...)\u001b[0m\n\u001b[1;32m    <a href='file:///home/mus5900/anaconda3/envs/nlp_2/lib/python3.9/site-packages/transformers/models/vit/modeling_vit.py?line=593'>594</a>\u001b[0m \u001b[39m    >>> print(\"Predicted class:\", model.config.id2label[predicted_class_idx])\u001b[39;00m\n\u001b[1;32m    <a href='file:///home/mus5900/anaconda3/envs/nlp_2/lib/python3.9/site-packages/transformers/models/vit/modeling_vit.py?line=594'>595</a>\u001b[0m \u001b[39m\"\"\"\u001b[39;00m\n\u001b[1;32m    <a href='file:///home/mus5900/anaconda3/envs/nlp_2/lib/python3.9/site-packages/transformers/models/vit/modeling_vit.py?line=595'>596</a>\u001b[0m return_dict \u001b[39m=\u001b[39m return_dict \u001b[39mif\u001b[39;00m return_dict \u001b[39mis\u001b[39;00m \u001b[39mnot\u001b[39;00m \u001b[39mNone\u001b[39;00m \u001b[39melse\u001b[39;00m \u001b[39mself\u001b[39m\u001b[39m.\u001b[39mconfig\u001b[39m.\u001b[39muse_return_dict\n\u001b[0;32m--> <a href='file:///home/mus5900/anaconda3/envs/nlp_2/lib/python3.9/site-packages/transformers/models/vit/modeling_vit.py?line=597'>598</a>\u001b[0m outputs \u001b[39m=\u001b[39m \u001b[39mself\u001b[39;49m\u001b[39m.\u001b[39;49mvit(\n\u001b[1;32m    <a href='file:///home/mus5900/anaconda3/envs/nlp_2/lib/python3.9/site-packages/transformers/models/vit/modeling_vit.py?line=598'>599</a>\u001b[0m     pixel_values,\n\u001b[1;32m    <a href='file:///home/mus5900/anaconda3/envs/nlp_2/lib/python3.9/site-packages/transformers/models/vit/modeling_vit.py?line=599'>600</a>\u001b[0m     head_mask\u001b[39m=\u001b[39;49mhead_mask,\n\u001b[1;32m    <a href='file:///home/mus5900/anaconda3/envs/nlp_2/lib/python3.9/site-packages/transformers/models/vit/modeling_vit.py?line=600'>601</a>\u001b[0m     output_attentions\u001b[39m=\u001b[39;49moutput_attentions,\n\u001b[1;32m    <a href='file:///home/mus5900/anaconda3/envs/nlp_2/lib/python3.9/site-packages/transformers/models/vit/modeling_vit.py?line=601'>602</a>\u001b[0m     output_hidden_states\u001b[39m=\u001b[39;49moutput_hidden_states,\n\u001b[1;32m    <a href='file:///home/mus5900/anaconda3/envs/nlp_2/lib/python3.9/site-packages/transformers/models/vit/modeling_vit.py?line=602'>603</a>\u001b[0m     return_dict\u001b[39m=\u001b[39;49mreturn_dict,\n\u001b[1;32m    <a href='file:///home/mus5900/anaconda3/envs/nlp_2/lib/python3.9/site-packages/transformers/models/vit/modeling_vit.py?line=603'>604</a>\u001b[0m )\n\u001b[1;32m    <a href='file:///home/mus5900/anaconda3/envs/nlp_2/lib/python3.9/site-packages/transformers/models/vit/modeling_vit.py?line=605'>606</a>\u001b[0m sequence_output \u001b[39m=\u001b[39m outputs[\u001b[39m0\u001b[39m]\n\u001b[1;32m    <a href='file:///home/mus5900/anaconda3/envs/nlp_2/lib/python3.9/site-packages/transformers/models/vit/modeling_vit.py?line=607'>608</a>\u001b[0m logits \u001b[39m=\u001b[39m \u001b[39mself\u001b[39m\u001b[39m.\u001b[39mclassifier(sequence_output[:, \u001b[39m0\u001b[39m, :])\n",
            "File \u001b[0;32m~/anaconda3/envs/nlp_2/lib/python3.9/site-packages/torch/nn/modules/module.py:1110\u001b[0m, in \u001b[0;36mModule._call_impl\u001b[0;34m(self, *input, **kwargs)\u001b[0m\n\u001b[1;32m   <a href='file:///home/mus5900/anaconda3/envs/nlp_2/lib/python3.9/site-packages/torch/nn/modules/module.py?line=1105'>1106</a>\u001b[0m \u001b[39m# If we don't have any hooks, we want to skip the rest of the logic in\u001b[39;00m\n\u001b[1;32m   <a href='file:///home/mus5900/anaconda3/envs/nlp_2/lib/python3.9/site-packages/torch/nn/modules/module.py?line=1106'>1107</a>\u001b[0m \u001b[39m# this function, and just call forward.\u001b[39;00m\n\u001b[1;32m   <a href='file:///home/mus5900/anaconda3/envs/nlp_2/lib/python3.9/site-packages/torch/nn/modules/module.py?line=1107'>1108</a>\u001b[0m \u001b[39mif\u001b[39;00m \u001b[39mnot\u001b[39;00m (\u001b[39mself\u001b[39m\u001b[39m.\u001b[39m_backward_hooks \u001b[39mor\u001b[39;00m \u001b[39mself\u001b[39m\u001b[39m.\u001b[39m_forward_hooks \u001b[39mor\u001b[39;00m \u001b[39mself\u001b[39m\u001b[39m.\u001b[39m_forward_pre_hooks \u001b[39mor\u001b[39;00m _global_backward_hooks\n\u001b[1;32m   <a href='file:///home/mus5900/anaconda3/envs/nlp_2/lib/python3.9/site-packages/torch/nn/modules/module.py?line=1108'>1109</a>\u001b[0m         \u001b[39mor\u001b[39;00m _global_forward_hooks \u001b[39mor\u001b[39;00m _global_forward_pre_hooks):\n\u001b[0;32m-> <a href='file:///home/mus5900/anaconda3/envs/nlp_2/lib/python3.9/site-packages/torch/nn/modules/module.py?line=1109'>1110</a>\u001b[0m     \u001b[39mreturn\u001b[39;00m forward_call(\u001b[39m*\u001b[39;49m\u001b[39minput\u001b[39;49m, \u001b[39m*\u001b[39;49m\u001b[39m*\u001b[39;49mkwargs)\n\u001b[1;32m   <a href='file:///home/mus5900/anaconda3/envs/nlp_2/lib/python3.9/site-packages/torch/nn/modules/module.py?line=1110'>1111</a>\u001b[0m \u001b[39m# Do not call functions when jit is used\u001b[39;00m\n\u001b[1;32m   <a href='file:///home/mus5900/anaconda3/envs/nlp_2/lib/python3.9/site-packages/torch/nn/modules/module.py?line=1111'>1112</a>\u001b[0m full_backward_hooks, non_full_backward_hooks \u001b[39m=\u001b[39m [], []\n",
            "File \u001b[0;32m~/anaconda3/envs/nlp_2/lib/python3.9/site-packages/transformers/models/vit/modeling_vit.py:502\u001b[0m, in \u001b[0;36mViTModel.forward\u001b[0;34m(self, pixel_values, head_mask, output_attentions, output_hidden_states, return_dict)\u001b[0m\n\u001b[1;32m    <a href='file:///home/mus5900/anaconda3/envs/nlp_2/lib/python3.9/site-packages/transformers/models/vit/modeling_vit.py?line=497'>498</a>\u001b[0m head_mask \u001b[39m=\u001b[39m \u001b[39mself\u001b[39m\u001b[39m.\u001b[39mget_head_mask(head_mask, \u001b[39mself\u001b[39m\u001b[39m.\u001b[39mconfig\u001b[39m.\u001b[39mnum_hidden_layers)\n\u001b[1;32m    <a href='file:///home/mus5900/anaconda3/envs/nlp_2/lib/python3.9/site-packages/transformers/models/vit/modeling_vit.py?line=499'>500</a>\u001b[0m embedding_output \u001b[39m=\u001b[39m \u001b[39mself\u001b[39m\u001b[39m.\u001b[39membeddings(pixel_values)\n\u001b[0;32m--> <a href='file:///home/mus5900/anaconda3/envs/nlp_2/lib/python3.9/site-packages/transformers/models/vit/modeling_vit.py?line=501'>502</a>\u001b[0m encoder_outputs \u001b[39m=\u001b[39m \u001b[39mself\u001b[39;49m\u001b[39m.\u001b[39;49mencoder(\n\u001b[1;32m    <a href='file:///home/mus5900/anaconda3/envs/nlp_2/lib/python3.9/site-packages/transformers/models/vit/modeling_vit.py?line=502'>503</a>\u001b[0m     embedding_output,\n\u001b[1;32m    <a href='file:///home/mus5900/anaconda3/envs/nlp_2/lib/python3.9/site-packages/transformers/models/vit/modeling_vit.py?line=503'>504</a>\u001b[0m     head_mask\u001b[39m=\u001b[39;49mhead_mask,\n\u001b[1;32m    <a href='file:///home/mus5900/anaconda3/envs/nlp_2/lib/python3.9/site-packages/transformers/models/vit/modeling_vit.py?line=504'>505</a>\u001b[0m     output_attentions\u001b[39m=\u001b[39;49moutput_attentions,\n\u001b[1;32m    <a href='file:///home/mus5900/anaconda3/envs/nlp_2/lib/python3.9/site-packages/transformers/models/vit/modeling_vit.py?line=505'>506</a>\u001b[0m     output_hidden_states\u001b[39m=\u001b[39;49moutput_hidden_states,\n\u001b[1;32m    <a href='file:///home/mus5900/anaconda3/envs/nlp_2/lib/python3.9/site-packages/transformers/models/vit/modeling_vit.py?line=506'>507</a>\u001b[0m     return_dict\u001b[39m=\u001b[39;49mreturn_dict,\n\u001b[1;32m    <a href='file:///home/mus5900/anaconda3/envs/nlp_2/lib/python3.9/site-packages/transformers/models/vit/modeling_vit.py?line=507'>508</a>\u001b[0m )\n\u001b[1;32m    <a href='file:///home/mus5900/anaconda3/envs/nlp_2/lib/python3.9/site-packages/transformers/models/vit/modeling_vit.py?line=508'>509</a>\u001b[0m sequence_output \u001b[39m=\u001b[39m encoder_outputs[\u001b[39m0\u001b[39m]\n\u001b[1;32m    <a href='file:///home/mus5900/anaconda3/envs/nlp_2/lib/python3.9/site-packages/transformers/models/vit/modeling_vit.py?line=509'>510</a>\u001b[0m sequence_output \u001b[39m=\u001b[39m \u001b[39mself\u001b[39m\u001b[39m.\u001b[39mlayernorm(sequence_output)\n",
            "File \u001b[0;32m~/anaconda3/envs/nlp_2/lib/python3.9/site-packages/torch/nn/modules/module.py:1110\u001b[0m, in \u001b[0;36mModule._call_impl\u001b[0;34m(self, *input, **kwargs)\u001b[0m\n\u001b[1;32m   <a href='file:///home/mus5900/anaconda3/envs/nlp_2/lib/python3.9/site-packages/torch/nn/modules/module.py?line=1105'>1106</a>\u001b[0m \u001b[39m# If we don't have any hooks, we want to skip the rest of the logic in\u001b[39;00m\n\u001b[1;32m   <a href='file:///home/mus5900/anaconda3/envs/nlp_2/lib/python3.9/site-packages/torch/nn/modules/module.py?line=1106'>1107</a>\u001b[0m \u001b[39m# this function, and just call forward.\u001b[39;00m\n\u001b[1;32m   <a href='file:///home/mus5900/anaconda3/envs/nlp_2/lib/python3.9/site-packages/torch/nn/modules/module.py?line=1107'>1108</a>\u001b[0m \u001b[39mif\u001b[39;00m \u001b[39mnot\u001b[39;00m (\u001b[39mself\u001b[39m\u001b[39m.\u001b[39m_backward_hooks \u001b[39mor\u001b[39;00m \u001b[39mself\u001b[39m\u001b[39m.\u001b[39m_forward_hooks \u001b[39mor\u001b[39;00m \u001b[39mself\u001b[39m\u001b[39m.\u001b[39m_forward_pre_hooks \u001b[39mor\u001b[39;00m _global_backward_hooks\n\u001b[1;32m   <a href='file:///home/mus5900/anaconda3/envs/nlp_2/lib/python3.9/site-packages/torch/nn/modules/module.py?line=1108'>1109</a>\u001b[0m         \u001b[39mor\u001b[39;00m _global_forward_hooks \u001b[39mor\u001b[39;00m _global_forward_pre_hooks):\n\u001b[0;32m-> <a href='file:///home/mus5900/anaconda3/envs/nlp_2/lib/python3.9/site-packages/torch/nn/modules/module.py?line=1109'>1110</a>\u001b[0m     \u001b[39mreturn\u001b[39;00m forward_call(\u001b[39m*\u001b[39;49m\u001b[39minput\u001b[39;49m, \u001b[39m*\u001b[39;49m\u001b[39m*\u001b[39;49mkwargs)\n\u001b[1;32m   <a href='file:///home/mus5900/anaconda3/envs/nlp_2/lib/python3.9/site-packages/torch/nn/modules/module.py?line=1110'>1111</a>\u001b[0m \u001b[39m# Do not call functions when jit is used\u001b[39;00m\n\u001b[1;32m   <a href='file:///home/mus5900/anaconda3/envs/nlp_2/lib/python3.9/site-packages/torch/nn/modules/module.py?line=1111'>1112</a>\u001b[0m full_backward_hooks, non_full_backward_hooks \u001b[39m=\u001b[39m [], []\n",
            "File \u001b[0;32m~/anaconda3/envs/nlp_2/lib/python3.9/site-packages/transformers/models/vit/modeling_vit.py:346\u001b[0m, in \u001b[0;36mViTEncoder.forward\u001b[0;34m(self, hidden_states, head_mask, output_attentions, output_hidden_states, return_dict)\u001b[0m\n\u001b[1;32m    <a href='file:///home/mus5900/anaconda3/envs/nlp_2/lib/python3.9/site-packages/transformers/models/vit/modeling_vit.py?line=339'>340</a>\u001b[0m     layer_outputs \u001b[39m=\u001b[39m torch\u001b[39m.\u001b[39mutils\u001b[39m.\u001b[39mcheckpoint\u001b[39m.\u001b[39mcheckpoint(\n\u001b[1;32m    <a href='file:///home/mus5900/anaconda3/envs/nlp_2/lib/python3.9/site-packages/transformers/models/vit/modeling_vit.py?line=340'>341</a>\u001b[0m         create_custom_forward(layer_module),\n\u001b[1;32m    <a href='file:///home/mus5900/anaconda3/envs/nlp_2/lib/python3.9/site-packages/transformers/models/vit/modeling_vit.py?line=341'>342</a>\u001b[0m         hidden_states,\n\u001b[1;32m    <a href='file:///home/mus5900/anaconda3/envs/nlp_2/lib/python3.9/site-packages/transformers/models/vit/modeling_vit.py?line=342'>343</a>\u001b[0m         layer_head_mask,\n\u001b[1;32m    <a href='file:///home/mus5900/anaconda3/envs/nlp_2/lib/python3.9/site-packages/transformers/models/vit/modeling_vit.py?line=343'>344</a>\u001b[0m     )\n\u001b[1;32m    <a href='file:///home/mus5900/anaconda3/envs/nlp_2/lib/python3.9/site-packages/transformers/models/vit/modeling_vit.py?line=344'>345</a>\u001b[0m \u001b[39melse\u001b[39;00m:\n\u001b[0;32m--> <a href='file:///home/mus5900/anaconda3/envs/nlp_2/lib/python3.9/site-packages/transformers/models/vit/modeling_vit.py?line=345'>346</a>\u001b[0m     layer_outputs \u001b[39m=\u001b[39m layer_module(hidden_states, layer_head_mask, output_attentions)\n\u001b[1;32m    <a href='file:///home/mus5900/anaconda3/envs/nlp_2/lib/python3.9/site-packages/transformers/models/vit/modeling_vit.py?line=347'>348</a>\u001b[0m hidden_states \u001b[39m=\u001b[39m layer_outputs[\u001b[39m0\u001b[39m]\n\u001b[1;32m    <a href='file:///home/mus5900/anaconda3/envs/nlp_2/lib/python3.9/site-packages/transformers/models/vit/modeling_vit.py?line=349'>350</a>\u001b[0m \u001b[39mif\u001b[39;00m output_attentions:\n",
            "File \u001b[0;32m~/anaconda3/envs/nlp_2/lib/python3.9/site-packages/torch/nn/modules/module.py:1110\u001b[0m, in \u001b[0;36mModule._call_impl\u001b[0;34m(self, *input, **kwargs)\u001b[0m\n\u001b[1;32m   <a href='file:///home/mus5900/anaconda3/envs/nlp_2/lib/python3.9/site-packages/torch/nn/modules/module.py?line=1105'>1106</a>\u001b[0m \u001b[39m# If we don't have any hooks, we want to skip the rest of the logic in\u001b[39;00m\n\u001b[1;32m   <a href='file:///home/mus5900/anaconda3/envs/nlp_2/lib/python3.9/site-packages/torch/nn/modules/module.py?line=1106'>1107</a>\u001b[0m \u001b[39m# this function, and just call forward.\u001b[39;00m\n\u001b[1;32m   <a href='file:///home/mus5900/anaconda3/envs/nlp_2/lib/python3.9/site-packages/torch/nn/modules/module.py?line=1107'>1108</a>\u001b[0m \u001b[39mif\u001b[39;00m \u001b[39mnot\u001b[39;00m (\u001b[39mself\u001b[39m\u001b[39m.\u001b[39m_backward_hooks \u001b[39mor\u001b[39;00m \u001b[39mself\u001b[39m\u001b[39m.\u001b[39m_forward_hooks \u001b[39mor\u001b[39;00m \u001b[39mself\u001b[39m\u001b[39m.\u001b[39m_forward_pre_hooks \u001b[39mor\u001b[39;00m _global_backward_hooks\n\u001b[1;32m   <a href='file:///home/mus5900/anaconda3/envs/nlp_2/lib/python3.9/site-packages/torch/nn/modules/module.py?line=1108'>1109</a>\u001b[0m         \u001b[39mor\u001b[39;00m _global_forward_hooks \u001b[39mor\u001b[39;00m _global_forward_pre_hooks):\n\u001b[0;32m-> <a href='file:///home/mus5900/anaconda3/envs/nlp_2/lib/python3.9/site-packages/torch/nn/modules/module.py?line=1109'>1110</a>\u001b[0m     \u001b[39mreturn\u001b[39;00m forward_call(\u001b[39m*\u001b[39;49m\u001b[39minput\u001b[39;49m, \u001b[39m*\u001b[39;49m\u001b[39m*\u001b[39;49mkwargs)\n\u001b[1;32m   <a href='file:///home/mus5900/anaconda3/envs/nlp_2/lib/python3.9/site-packages/torch/nn/modules/module.py?line=1110'>1111</a>\u001b[0m \u001b[39m# Do not call functions when jit is used\u001b[39;00m\n\u001b[1;32m   <a href='file:///home/mus5900/anaconda3/envs/nlp_2/lib/python3.9/site-packages/torch/nn/modules/module.py?line=1111'>1112</a>\u001b[0m full_backward_hooks, non_full_backward_hooks \u001b[39m=\u001b[39m [], []\n",
            "File \u001b[0;32m~/anaconda3/envs/nlp_2/lib/python3.9/site-packages/transformers/models/vit/modeling_vit.py:275\u001b[0m, in \u001b[0;36mViTLayer.forward\u001b[0;34m(self, hidden_states, head_mask, output_attentions)\u001b[0m\n\u001b[1;32m    <a href='file:///home/mus5900/anaconda3/envs/nlp_2/lib/python3.9/site-packages/transformers/models/vit/modeling_vit.py?line=273'>274</a>\u001b[0m \u001b[39mdef\u001b[39;00m \u001b[39mforward\u001b[39m(\u001b[39mself\u001b[39m, hidden_states, head_mask\u001b[39m=\u001b[39m\u001b[39mNone\u001b[39;00m, output_attentions\u001b[39m=\u001b[39m\u001b[39mFalse\u001b[39;00m):\n\u001b[0;32m--> <a href='file:///home/mus5900/anaconda3/envs/nlp_2/lib/python3.9/site-packages/transformers/models/vit/modeling_vit.py?line=274'>275</a>\u001b[0m     self_attention_outputs \u001b[39m=\u001b[39m \u001b[39mself\u001b[39;49m\u001b[39m.\u001b[39;49mattention(\n\u001b[1;32m    <a href='file:///home/mus5900/anaconda3/envs/nlp_2/lib/python3.9/site-packages/transformers/models/vit/modeling_vit.py?line=275'>276</a>\u001b[0m         \u001b[39mself\u001b[39;49m\u001b[39m.\u001b[39;49mlayernorm_before(hidden_states),  \u001b[39m# in ViT, layernorm is applied before self-attention\u001b[39;49;00m\n\u001b[1;32m    <a href='file:///home/mus5900/anaconda3/envs/nlp_2/lib/python3.9/site-packages/transformers/models/vit/modeling_vit.py?line=276'>277</a>\u001b[0m         head_mask,\n\u001b[1;32m    <a href='file:///home/mus5900/anaconda3/envs/nlp_2/lib/python3.9/site-packages/transformers/models/vit/modeling_vit.py?line=277'>278</a>\u001b[0m         output_attentions\u001b[39m=\u001b[39;49moutput_attentions,\n\u001b[1;32m    <a href='file:///home/mus5900/anaconda3/envs/nlp_2/lib/python3.9/site-packages/transformers/models/vit/modeling_vit.py?line=278'>279</a>\u001b[0m     )\n\u001b[1;32m    <a href='file:///home/mus5900/anaconda3/envs/nlp_2/lib/python3.9/site-packages/transformers/models/vit/modeling_vit.py?line=279'>280</a>\u001b[0m     attention_output \u001b[39m=\u001b[39m self_attention_outputs[\u001b[39m0\u001b[39m]\n\u001b[1;32m    <a href='file:///home/mus5900/anaconda3/envs/nlp_2/lib/python3.9/site-packages/transformers/models/vit/modeling_vit.py?line=280'>281</a>\u001b[0m     outputs \u001b[39m=\u001b[39m self_attention_outputs[\u001b[39m1\u001b[39m:]  \u001b[39m# add self attentions if we output attention weights\u001b[39;00m\n",
            "File \u001b[0;32m~/anaconda3/envs/nlp_2/lib/python3.9/site-packages/torch/nn/modules/module.py:1110\u001b[0m, in \u001b[0;36mModule._call_impl\u001b[0;34m(self, *input, **kwargs)\u001b[0m\n\u001b[1;32m   <a href='file:///home/mus5900/anaconda3/envs/nlp_2/lib/python3.9/site-packages/torch/nn/modules/module.py?line=1105'>1106</a>\u001b[0m \u001b[39m# If we don't have any hooks, we want to skip the rest of the logic in\u001b[39;00m\n\u001b[1;32m   <a href='file:///home/mus5900/anaconda3/envs/nlp_2/lib/python3.9/site-packages/torch/nn/modules/module.py?line=1106'>1107</a>\u001b[0m \u001b[39m# this function, and just call forward.\u001b[39;00m\n\u001b[1;32m   <a href='file:///home/mus5900/anaconda3/envs/nlp_2/lib/python3.9/site-packages/torch/nn/modules/module.py?line=1107'>1108</a>\u001b[0m \u001b[39mif\u001b[39;00m \u001b[39mnot\u001b[39;00m (\u001b[39mself\u001b[39m\u001b[39m.\u001b[39m_backward_hooks \u001b[39mor\u001b[39;00m \u001b[39mself\u001b[39m\u001b[39m.\u001b[39m_forward_hooks \u001b[39mor\u001b[39;00m \u001b[39mself\u001b[39m\u001b[39m.\u001b[39m_forward_pre_hooks \u001b[39mor\u001b[39;00m _global_backward_hooks\n\u001b[1;32m   <a href='file:///home/mus5900/anaconda3/envs/nlp_2/lib/python3.9/site-packages/torch/nn/modules/module.py?line=1108'>1109</a>\u001b[0m         \u001b[39mor\u001b[39;00m _global_forward_hooks \u001b[39mor\u001b[39;00m _global_forward_pre_hooks):\n\u001b[0;32m-> <a href='file:///home/mus5900/anaconda3/envs/nlp_2/lib/python3.9/site-packages/torch/nn/modules/module.py?line=1109'>1110</a>\u001b[0m     \u001b[39mreturn\u001b[39;00m forward_call(\u001b[39m*\u001b[39;49m\u001b[39minput\u001b[39;49m, \u001b[39m*\u001b[39;49m\u001b[39m*\u001b[39;49mkwargs)\n\u001b[1;32m   <a href='file:///home/mus5900/anaconda3/envs/nlp_2/lib/python3.9/site-packages/torch/nn/modules/module.py?line=1110'>1111</a>\u001b[0m \u001b[39m# Do not call functions when jit is used\u001b[39;00m\n\u001b[1;32m   <a href='file:///home/mus5900/anaconda3/envs/nlp_2/lib/python3.9/site-packages/torch/nn/modules/module.py?line=1111'>1112</a>\u001b[0m full_backward_hooks, non_full_backward_hooks \u001b[39m=\u001b[39m [], []\n",
            "File \u001b[0;32m~/anaconda3/envs/nlp_2/lib/python3.9/site-packages/transformers/models/vit/modeling_vit.py:221\u001b[0m, in \u001b[0;36mViTAttention.forward\u001b[0;34m(self, hidden_states, head_mask, output_attentions)\u001b[0m\n\u001b[1;32m    <a href='file:///home/mus5900/anaconda3/envs/nlp_2/lib/python3.9/site-packages/transformers/models/vit/modeling_vit.py?line=219'>220</a>\u001b[0m \u001b[39mdef\u001b[39;00m \u001b[39mforward\u001b[39m(\u001b[39mself\u001b[39m, hidden_states, head_mask\u001b[39m=\u001b[39m\u001b[39mNone\u001b[39;00m, output_attentions\u001b[39m=\u001b[39m\u001b[39mFalse\u001b[39;00m):\n\u001b[0;32m--> <a href='file:///home/mus5900/anaconda3/envs/nlp_2/lib/python3.9/site-packages/transformers/models/vit/modeling_vit.py?line=220'>221</a>\u001b[0m     self_outputs \u001b[39m=\u001b[39m \u001b[39mself\u001b[39;49m\u001b[39m.\u001b[39;49mattention(hidden_states, head_mask, output_attentions)\n\u001b[1;32m    <a href='file:///home/mus5900/anaconda3/envs/nlp_2/lib/python3.9/site-packages/transformers/models/vit/modeling_vit.py?line=222'>223</a>\u001b[0m     attention_output \u001b[39m=\u001b[39m \u001b[39mself\u001b[39m\u001b[39m.\u001b[39moutput(self_outputs[\u001b[39m0\u001b[39m], hidden_states)\n\u001b[1;32m    <a href='file:///home/mus5900/anaconda3/envs/nlp_2/lib/python3.9/site-packages/transformers/models/vit/modeling_vit.py?line=224'>225</a>\u001b[0m     outputs \u001b[39m=\u001b[39m (attention_output,) \u001b[39m+\u001b[39m self_outputs[\u001b[39m1\u001b[39m:]  \u001b[39m# add attentions if we output them\u001b[39;00m\n",
            "File \u001b[0;32m~/anaconda3/envs/nlp_2/lib/python3.9/site-packages/torch/nn/modules/module.py:1110\u001b[0m, in \u001b[0;36mModule._call_impl\u001b[0;34m(self, *input, **kwargs)\u001b[0m\n\u001b[1;32m   <a href='file:///home/mus5900/anaconda3/envs/nlp_2/lib/python3.9/site-packages/torch/nn/modules/module.py?line=1105'>1106</a>\u001b[0m \u001b[39m# If we don't have any hooks, we want to skip the rest of the logic in\u001b[39;00m\n\u001b[1;32m   <a href='file:///home/mus5900/anaconda3/envs/nlp_2/lib/python3.9/site-packages/torch/nn/modules/module.py?line=1106'>1107</a>\u001b[0m \u001b[39m# this function, and just call forward.\u001b[39;00m\n\u001b[1;32m   <a href='file:///home/mus5900/anaconda3/envs/nlp_2/lib/python3.9/site-packages/torch/nn/modules/module.py?line=1107'>1108</a>\u001b[0m \u001b[39mif\u001b[39;00m \u001b[39mnot\u001b[39;00m (\u001b[39mself\u001b[39m\u001b[39m.\u001b[39m_backward_hooks \u001b[39mor\u001b[39;00m \u001b[39mself\u001b[39m\u001b[39m.\u001b[39m_forward_hooks \u001b[39mor\u001b[39;00m \u001b[39mself\u001b[39m\u001b[39m.\u001b[39m_forward_pre_hooks \u001b[39mor\u001b[39;00m _global_backward_hooks\n\u001b[1;32m   <a href='file:///home/mus5900/anaconda3/envs/nlp_2/lib/python3.9/site-packages/torch/nn/modules/module.py?line=1108'>1109</a>\u001b[0m         \u001b[39mor\u001b[39;00m _global_forward_hooks \u001b[39mor\u001b[39;00m _global_forward_pre_hooks):\n\u001b[0;32m-> <a href='file:///home/mus5900/anaconda3/envs/nlp_2/lib/python3.9/site-packages/torch/nn/modules/module.py?line=1109'>1110</a>\u001b[0m     \u001b[39mreturn\u001b[39;00m forward_call(\u001b[39m*\u001b[39;49m\u001b[39minput\u001b[39;49m, \u001b[39m*\u001b[39;49m\u001b[39m*\u001b[39;49mkwargs)\n\u001b[1;32m   <a href='file:///home/mus5900/anaconda3/envs/nlp_2/lib/python3.9/site-packages/torch/nn/modules/module.py?line=1110'>1111</a>\u001b[0m \u001b[39m# Do not call functions when jit is used\u001b[39;00m\n\u001b[1;32m   <a href='file:///home/mus5900/anaconda3/envs/nlp_2/lib/python3.9/site-packages/torch/nn/modules/module.py?line=1111'>1112</a>\u001b[0m full_backward_hooks, non_full_backward_hooks \u001b[39m=\u001b[39m [], []\n",
            "File \u001b[0;32m~/anaconda3/envs/nlp_2/lib/python3.9/site-packages/transformers/models/vit/modeling_vit.py:150\u001b[0m, in \u001b[0;36mViTSelfAttention.forward\u001b[0;34m(self, hidden_states, head_mask, output_attentions)\u001b[0m\n\u001b[1;32m    <a href='file:///home/mus5900/anaconda3/envs/nlp_2/lib/python3.9/site-packages/transformers/models/vit/modeling_vit.py?line=146'>147</a>\u001b[0m query_layer \u001b[39m=\u001b[39m \u001b[39mself\u001b[39m\u001b[39m.\u001b[39mtranspose_for_scores(mixed_query_layer)\n\u001b[1;32m    <a href='file:///home/mus5900/anaconda3/envs/nlp_2/lib/python3.9/site-packages/transformers/models/vit/modeling_vit.py?line=148'>149</a>\u001b[0m \u001b[39m# Take the dot product between \"query\" and \"key\" to get the raw attention scores.\u001b[39;00m\n\u001b[0;32m--> <a href='file:///home/mus5900/anaconda3/envs/nlp_2/lib/python3.9/site-packages/transformers/models/vit/modeling_vit.py?line=149'>150</a>\u001b[0m attention_scores \u001b[39m=\u001b[39m torch\u001b[39m.\u001b[39;49mmatmul(query_layer, key_layer\u001b[39m.\u001b[39;49mtranspose(\u001b[39m-\u001b[39;49m\u001b[39m1\u001b[39;49m, \u001b[39m-\u001b[39;49m\u001b[39m2\u001b[39;49m))\n\u001b[1;32m    <a href='file:///home/mus5900/anaconda3/envs/nlp_2/lib/python3.9/site-packages/transformers/models/vit/modeling_vit.py?line=151'>152</a>\u001b[0m attention_scores \u001b[39m=\u001b[39m attention_scores \u001b[39m/\u001b[39m math\u001b[39m.\u001b[39msqrt(\u001b[39mself\u001b[39m\u001b[39m.\u001b[39mattention_head_size)\n\u001b[1;32m    <a href='file:///home/mus5900/anaconda3/envs/nlp_2/lib/python3.9/site-packages/transformers/models/vit/modeling_vit.py?line=153'>154</a>\u001b[0m \u001b[39m# Normalize the attention scores to probabilities.\u001b[39;00m\n",
            "\u001b[0;31mRuntimeError\u001b[0m: CUDA out of memory. Tried to allocate 20.00 MiB (GPU 0; 2.00 GiB total capacity; 744.37 MiB already allocated; 0 bytes free; 814.00 MiB reserved in total by PyTorch) If reserved memory is >> allocated memory try setting max_split_size_mb to avoid fragmentation.  See documentation for Memory Management and PYTORCH_CUDA_ALLOC_CONF"
          ]
        }
      ],
      "source": [
        "from sklearn.metrics import accuracy_score\n",
        "\n",
        "LR  = 0.00001\n",
        "EPOCHS = 10\n",
        "\n",
        "loss = torch.nn.CrossEntropyLoss()\n",
        "optimizer = torch.optim.Adam(model.parameters(), lr=LR)\n",
        "\n",
        "historical_accuracies_train = []\n",
        "historical_accuracies_dev = []\n",
        "\n",
        "for epoch in range(EPOCHS):\n",
        "  print(\"*******************\")\n",
        "  print(\"Epoch :\", epoch,\"/\", EPOCHS)\n",
        "  # ----------------------------------- Train ---------------------------------- #\n",
        "  all_train_predictions = []\n",
        "  all_train_labels = []\n",
        "\n",
        "  for batch in batch_iterator(train):\n",
        "    model.train()\n",
        "\n",
        "    imgs = batch[\"img\"]\n",
        "    pixel_values = feature_extractor(images=imgs, return_tensors=\"pt\")[\"pixel_values\"].to(device)\n",
        "    labels = torch.tensor(batch[\"label\"])\n",
        "\n",
        "    proba = torch.nn.functional.softmax(model(pixel_values).logits, dim = -1)\n",
        "    one_hot_labels = torch.nn.functional.one_hot(labels, 2)\n",
        "    one_hot_labels = one_hot_labels.float()\n",
        "\n",
        "    batch_loss = loss(proba, one_hot_labels)\n",
        "    optimizer.zero_grad()\n",
        "    batch_loss.backward()\n",
        "    optimizer.step()\n",
        "\n",
        "    all_train_predictions += torch.max(proba, -1)[1].tolist()\n",
        "    all_train_labels += labels.tolist()\n",
        "\n",
        "  train_acc = accuracy_score(all_train_labels, all_train_predictions)\n",
        "  historical_accuracies_train.append(train_acc)\n",
        "  print(\"train accuracy =\", train_acc)\n",
        "\n",
        "  # ----------------------------------- Eval ----------------------------------- #\n",
        "  all_dev_predictions = []\n",
        "  all_dev_labels = []\n",
        "  for batch in batch_iterator(test):\n",
        "    model.eval()\n",
        "\n",
        "    imgs = batch[\"img\"]\n",
        "    pixel_values = feature_extractor(images=imgs, return_tensors=\"pt\")[\"pixel_values\"].to(device)\n",
        "    labels = torch.tensor(batch[\"label\"])\n",
        "    \n",
        "    with torch.no_grad():\n",
        "      predictions = torch.max(model(pixel_values).logits, -1)[1]\n",
        "\n",
        "    all_dev_labels += labels.tolist()\n",
        "    all_dev_predictions += predictions.tolist()\n",
        "\n",
        "    break\n",
        "    \n",
        "  dev_acc = accuracy_score(all_dev_labels, all_dev_predictions)\n",
        "  historical_accuracies_dev.append(dev_acc)\n",
        "  print(\"eval accuracy =\", dev_acc)"
      ]
    },
    {
      "cell_type": "code",
      "execution_count": null,
      "metadata": {
        "id": "bKIeFfn2X2ha"
      },
      "outputs": [],
      "source": [
        "labels"
      ]
    },
    {
      "cell_type": "code",
      "execution_count": null,
      "metadata": {
        "id": "K2GJaYBpw91T"
      },
      "outputs": [],
      "source": [
        "### WRITE YOUR CODE TO TRAIN THE MODEL HERE"
      ]
    },
    {
      "cell_type": "markdown",
      "metadata": {
        "id": "qSeLed2JxvGI"
      },
      "source": [
        "**Write up**: \n",
        "* Link to the model on Hugging Face Hub: \n",
        "* Include some examples of misclassified images. Please explain what you might do to improve your model's performance on these images in the future (you do not need to impelement these suggestions)"
      ]
    },
    {
      "cell_type": "markdown",
      "metadata": {
        "id": "sFU9LTOyMiMj"
      },
      "source": [
        "# 2. Deep Learning for NLP\n",
        "\n",
        "**Fake news classifier**: Train a text classification model to detect fake news articles!\n",
        "\n",
        "* Download the dataset here: https://www.kaggle.com/clmentbisaillon/fake-and-real-news-dataset\n",
        "* Develop an NLP model for classification that uses a pretrained language model\n",
        "* Finetune your model on the dataset, and generate an AUC curve of your model on the test set of your choice. \n",
        "* [Upload the the model to the Hugging Face Hub](https://huggingface.co/docs/hub/adding-a-model), and add a link to your model below.\n",
        "* *Answer the following question*: Look at some of the news articles that were classified incorrectly. Please explain what you might do to improve your model's performance on these news articles in the future (you do not need to impelement these suggestions)"
      ]
    },
    {
      "cell_type": "code",
      "execution_count": null,
      "metadata": {
        "id": "E90i018KyJH3"
      },
      "outputs": [],
      "source": [
        "### WRITE YOUR CODE TO TRAIN THE MODEL HERE"
      ]
    },
    {
      "cell_type": "markdown",
      "metadata": {
        "id": "kpInVUMLyJ24"
      },
      "source": [
        "**Write up**: \n",
        "* Link to the model on Hugging Face Hub: \n",
        "* Include some examples of misclassified news articles. Please explain what you might do to improve your model's performance on these news articles in the future (you do not need to impelement these suggestions)"
      ]
    },
    {
      "cell_type": "markdown",
      "metadata": {
        "id": "jTfHpo6BOmE8"
      },
      "source": [
        "# 3. Deep RL / Robotics"
      ]
    },
    {
      "cell_type": "markdown",
      "metadata": {
        "id": "saB64bbTXWgZ"
      },
      "source": [
        "**RL for Classical Control:** Using any of the [classical control](https://github.com/openai/gym/blob/master/docs/environments.md#classic-control) environments from OpenAI's `gym`, implement a deep NN that learns an optimal policy which maximizes the reward of the environment.\n",
        "\n",
        "* Describe the NN you implemented and the behavior you observe from the agent as the model converges (or diverges).\n",
        "* Plot the reward as a function of steps (or Epochs).\n",
        "Compare your results to a random agent.\n",
        "* Discuss whether you think your model has learned the optimal policy and potential methods for improving it and/or where it might fail.\n",
        "* (Optional) [Upload the the model to the Hugging Face Hub](https://huggingface.co/docs/hub/adding-a-model), and add a link to your model below.\n",
        "\n",
        "\n",
        "You may use any frameworks you like, but you must implement your NN on your own (no pre-defined/trained models like [`stable_baselines`](https://stable-baselines.readthedocs.io/en/master/)).\n",
        "\n",
        "You may use any simulator other than `gym` _however_:\n",
        "* The environment has to be similar to the classical control environments (or more complex like [`robosuite`](https://github.com/ARISE-Initiative/robosuite)).\n",
        "* You cannot choose a game/Atari/text based environment. The purpose of this challenge is to demonstrate an understanding of basic kinematic/dynamic systems."
      ]
    },
    {
      "cell_type": "code",
      "execution_count": null,
      "metadata": {
        "id": "CUhkTcoeynVv"
      },
      "outputs": [],
      "source": [
        "### WRITE YOUR CODE TO TRAIN THE MODEL HERE"
      ]
    },
    {
      "cell_type": "markdown",
      "metadata": {
        "id": "bWllPZhJyotg"
      },
      "source": [
        "**Write up**: \n",
        "* (Optional) link to the model on Hugging Face Hub: \n",
        "* Discuss whether you think your model has learned the optimal policy and potential methods for improving it and/or where it might fail."
      ]
    },
    {
      "cell_type": "markdown",
      "metadata": {
        "id": "rbrRbrISa5J_"
      },
      "source": [
        "# 4. Theory / Linear Algebra "
      ]
    },
    {
      "cell_type": "markdown",
      "metadata": {
        "id": "KFkLRCzTXTzL"
      },
      "source": [
        "**Implement Contrastive PCA** Read [this paper](https://www.nature.com/articles/s41467-018-04608-8) and implement contrastive PCA in Python.\n",
        "\n",
        "* First, please discuss what kind of dataset this would make sense to use this method on\n",
        "* Implement the method in Python (do not use previous implementations of the method if they already exist)\n",
        "* Then create a synthetic dataset and apply the method to the synthetic data. Compare with standard PCA.\n"
      ]
    },
    {
      "cell_type": "markdown",
      "metadata": {
        "id": "TpyqWl-ly0wy"
      },
      "source": [
        "**Write up**: Discuss what kind of dataset it would make sense to use Contrastive PCA"
      ]
    },
    {
      "cell_type": "code",
      "execution_count": null,
      "metadata": {
        "id": "1CQzUSfQywRk"
      },
      "outputs": [],
      "source": [
        "### WRITE YOUR CODE HERE"
      ]
    },
    {
      "cell_type": "markdown",
      "metadata": {
        "id": "dlqmZS5Hy6q-"
      },
      "source": [
        "# 5. Systems"
      ]
    },
    {
      "cell_type": "markdown",
      "metadata": {
        "id": "QW_eiDFw1QKm"
      },
      "source": [
        "**Inference on the edge**: Measure the inference times in various computationally-constrained settings\n",
        "\n",
        "* Pick a few different speech detection models (we suggest looking at models  on the [Hugging Face Hub](https://huggingface.co/models?pipeline_tag=automatic-speech-recognition&sort=downloads))\n",
        "* Simulate different memory constraints and CPU allocations that are realistic for edge devices that might run such models, such as smart speakers or microcontrollers, and measure what is the average inference time of the models under these conditions \n",
        "* How does the inference time vary with (1) choice of model (2) available system memory (3) available CPU (4) size of input?\n",
        "\n",
        "Are there any surprising discoveries? (Note that this coding challenge is fairly open-ended, so we will be considering the amount of effort invested in discovering something interesting here)."
      ]
    },
    {
      "cell_type": "code",
      "execution_count": null,
      "metadata": {
        "id": "OYp94wLP1kWJ"
      },
      "outputs": [],
      "source": [
        "### WRITE YOUR CODE HERE"
      ]
    },
    {
      "cell_type": "markdown",
      "metadata": {
        "id": "yoHmutWx2jer"
      },
      "source": [
        "**Write up**: What surprising discoveries do you see?"
      ]
    }
  ],
  "metadata": {
    "accelerator": "GPU",
    "colab": {
      "collapsed_sections": [],
      "name": "Coding Challenge for Fatima Fellowship_code",
      "provenance": []
    },
    "kernelspec": {
      "display_name": "Python 3",
      "name": "python3"
    },
    "language_info": {
      "codemirror_mode": {
        "name": "ipython",
        "version": 3
      },
      "file_extension": ".py",
      "mimetype": "text/x-python",
      "name": "python",
      "nbconvert_exporter": "python",
      "pygments_lexer": "ipython3",
      "version": "3.9.7"
    },
    "widgets": {
      "application/vnd.jupyter.widget-state+json": {
        "018b957eb57e4ae3bb71666892c04dab": {
          "model_module": "@jupyter-widgets/controls",
          "model_module_version": "1.5.0",
          "model_name": "HTMLModel",
          "state": {
            "_dom_classes": [],
            "_model_module": "@jupyter-widgets/controls",
            "_model_module_version": "1.5.0",
            "_model_name": "HTMLModel",
            "_view_count": null,
            "_view_module": "@jupyter-widgets/controls",
            "_view_module_version": "1.5.0",
            "_view_name": "HTMLView",
            "description": "",
            "description_tooltip": null,
            "layout": "IPY_MODEL_55ced4fc123d43a0b5fc57e8785310ed",
            "placeholder": "​",
            "style": "IPY_MODEL_74634b0ec8b849868ef34dc7f651058b",
            "value": " 2/2 [00:00&lt;00:00, 39.55it/s]"
          }
        },
        "1dcadb15d0e5488bb5a42002716c41cd": {
          "model_module": "@jupyter-widgets/controls",
          "model_module_version": "1.5.0",
          "model_name": "FloatProgressModel",
          "state": {
            "_dom_classes": [],
            "_model_module": "@jupyter-widgets/controls",
            "_model_module_version": "1.5.0",
            "_model_name": "FloatProgressModel",
            "_view_count": null,
            "_view_module": "@jupyter-widgets/controls",
            "_view_module_version": "1.5.0",
            "_view_name": "ProgressView",
            "bar_style": "success",
            "description": "",
            "description_tooltip": null,
            "layout": "IPY_MODEL_5725de496e3947d6ad4beb4b3119deb4",
            "max": 2,
            "min": 0,
            "orientation": "horizontal",
            "style": "IPY_MODEL_e7ef1f9fbbe043479a85218e938752bf",
            "value": 2
          }
        },
        "4f5a286f64f04d618c99ce629b9e3e59": {
          "model_module": "@jupyter-widgets/base",
          "model_module_version": "1.2.0",
          "model_name": "LayoutModel",
          "state": {
            "_model_module": "@jupyter-widgets/base",
            "_model_module_version": "1.2.0",
            "_model_name": "LayoutModel",
            "_view_count": null,
            "_view_module": "@jupyter-widgets/base",
            "_view_module_version": "1.2.0",
            "_view_name": "LayoutView",
            "align_content": null,
            "align_items": null,
            "align_self": null,
            "border": null,
            "bottom": null,
            "display": null,
            "flex": null,
            "flex_flow": null,
            "grid_area": null,
            "grid_auto_columns": null,
            "grid_auto_flow": null,
            "grid_auto_rows": null,
            "grid_column": null,
            "grid_gap": null,
            "grid_row": null,
            "grid_template_areas": null,
            "grid_template_columns": null,
            "grid_template_rows": null,
            "height": null,
            "justify_content": null,
            "justify_items": null,
            "left": null,
            "margin": null,
            "max_height": null,
            "max_width": null,
            "min_height": null,
            "min_width": null,
            "object_fit": null,
            "object_position": null,
            "order": null,
            "overflow": null,
            "overflow_x": null,
            "overflow_y": null,
            "padding": null,
            "right": null,
            "top": null,
            "visibility": null,
            "width": null
          }
        },
        "55ced4fc123d43a0b5fc57e8785310ed": {
          "model_module": "@jupyter-widgets/base",
          "model_module_version": "1.2.0",
          "model_name": "LayoutModel",
          "state": {
            "_model_module": "@jupyter-widgets/base",
            "_model_module_version": "1.2.0",
            "_model_name": "LayoutModel",
            "_view_count": null,
            "_view_module": "@jupyter-widgets/base",
            "_view_module_version": "1.2.0",
            "_view_name": "LayoutView",
            "align_content": null,
            "align_items": null,
            "align_self": null,
            "border": null,
            "bottom": null,
            "display": null,
            "flex": null,
            "flex_flow": null,
            "grid_area": null,
            "grid_auto_columns": null,
            "grid_auto_flow": null,
            "grid_auto_rows": null,
            "grid_column": null,
            "grid_gap": null,
            "grid_row": null,
            "grid_template_areas": null,
            "grid_template_columns": null,
            "grid_template_rows": null,
            "height": null,
            "justify_content": null,
            "justify_items": null,
            "left": null,
            "margin": null,
            "max_height": null,
            "max_width": null,
            "min_height": null,
            "min_width": null,
            "object_fit": null,
            "object_position": null,
            "order": null,
            "overflow": null,
            "overflow_x": null,
            "overflow_y": null,
            "padding": null,
            "right": null,
            "top": null,
            "visibility": null,
            "width": null
          }
        },
        "5725de496e3947d6ad4beb4b3119deb4": {
          "model_module": "@jupyter-widgets/base",
          "model_module_version": "1.2.0",
          "model_name": "LayoutModel",
          "state": {
            "_model_module": "@jupyter-widgets/base",
            "_model_module_version": "1.2.0",
            "_model_name": "LayoutModel",
            "_view_count": null,
            "_view_module": "@jupyter-widgets/base",
            "_view_module_version": "1.2.0",
            "_view_name": "LayoutView",
            "align_content": null,
            "align_items": null,
            "align_self": null,
            "border": null,
            "bottom": null,
            "display": null,
            "flex": null,
            "flex_flow": null,
            "grid_area": null,
            "grid_auto_columns": null,
            "grid_auto_flow": null,
            "grid_auto_rows": null,
            "grid_column": null,
            "grid_gap": null,
            "grid_row": null,
            "grid_template_areas": null,
            "grid_template_columns": null,
            "grid_template_rows": null,
            "height": null,
            "justify_content": null,
            "justify_items": null,
            "left": null,
            "margin": null,
            "max_height": null,
            "max_width": null,
            "min_height": null,
            "min_width": null,
            "object_fit": null,
            "object_position": null,
            "order": null,
            "overflow": null,
            "overflow_x": null,
            "overflow_y": null,
            "padding": null,
            "right": null,
            "top": null,
            "visibility": null,
            "width": null
          }
        },
        "74634b0ec8b849868ef34dc7f651058b": {
          "model_module": "@jupyter-widgets/controls",
          "model_module_version": "1.5.0",
          "model_name": "DescriptionStyleModel",
          "state": {
            "_model_module": "@jupyter-widgets/controls",
            "_model_module_version": "1.5.0",
            "_model_name": "DescriptionStyleModel",
            "_view_count": null,
            "_view_module": "@jupyter-widgets/base",
            "_view_module_version": "1.2.0",
            "_view_name": "StyleView",
            "description_width": ""
          }
        },
        "b6b429845eeb409190431c0114148696": {
          "model_module": "@jupyter-widgets/controls",
          "model_module_version": "1.5.0",
          "model_name": "HTMLModel",
          "state": {
            "_dom_classes": [],
            "_model_module": "@jupyter-widgets/controls",
            "_model_module_version": "1.5.0",
            "_model_name": "HTMLModel",
            "_view_count": null,
            "_view_module": "@jupyter-widgets/controls",
            "_view_module_version": "1.5.0",
            "_view_name": "HTMLView",
            "description": "",
            "description_tooltip": null,
            "layout": "IPY_MODEL_4f5a286f64f04d618c99ce629b9e3e59",
            "placeholder": "​",
            "style": "IPY_MODEL_cf40ed594ddd464d980b30bb818741b1",
            "value": "100%"
          }
        },
        "be98a1e423ff463290f5753ba2b939f4": {
          "model_module": "@jupyter-widgets/base",
          "model_module_version": "1.2.0",
          "model_name": "LayoutModel",
          "state": {
            "_model_module": "@jupyter-widgets/base",
            "_model_module_version": "1.2.0",
            "_model_name": "LayoutModel",
            "_view_count": null,
            "_view_module": "@jupyter-widgets/base",
            "_view_module_version": "1.2.0",
            "_view_name": "LayoutView",
            "align_content": null,
            "align_items": null,
            "align_self": null,
            "border": null,
            "bottom": null,
            "display": null,
            "flex": null,
            "flex_flow": null,
            "grid_area": null,
            "grid_auto_columns": null,
            "grid_auto_flow": null,
            "grid_auto_rows": null,
            "grid_column": null,
            "grid_gap": null,
            "grid_row": null,
            "grid_template_areas": null,
            "grid_template_columns": null,
            "grid_template_rows": null,
            "height": null,
            "justify_content": null,
            "justify_items": null,
            "left": null,
            "margin": null,
            "max_height": null,
            "max_width": null,
            "min_height": null,
            "min_width": null,
            "object_fit": null,
            "object_position": null,
            "order": null,
            "overflow": null,
            "overflow_x": null,
            "overflow_y": null,
            "padding": null,
            "right": null,
            "top": null,
            "visibility": null,
            "width": null
          }
        },
        "cf40ed594ddd464d980b30bb818741b1": {
          "model_module": "@jupyter-widgets/controls",
          "model_module_version": "1.5.0",
          "model_name": "DescriptionStyleModel",
          "state": {
            "_model_module": "@jupyter-widgets/controls",
            "_model_module_version": "1.5.0",
            "_model_name": "DescriptionStyleModel",
            "_view_count": null,
            "_view_module": "@jupyter-widgets/base",
            "_view_module_version": "1.2.0",
            "_view_name": "StyleView",
            "description_width": ""
          }
        },
        "e7ef1f9fbbe043479a85218e938752bf": {
          "model_module": "@jupyter-widgets/controls",
          "model_module_version": "1.5.0",
          "model_name": "ProgressStyleModel",
          "state": {
            "_model_module": "@jupyter-widgets/controls",
            "_model_module_version": "1.5.0",
            "_model_name": "ProgressStyleModel",
            "_view_count": null,
            "_view_module": "@jupyter-widgets/base",
            "_view_module_version": "1.2.0",
            "_view_name": "StyleView",
            "bar_color": null,
            "description_width": ""
          }
        },
        "f382bd953d1244e1972d147d03a041c6": {
          "model_module": "@jupyter-widgets/controls",
          "model_module_version": "1.5.0",
          "model_name": "HBoxModel",
          "state": {
            "_dom_classes": [],
            "_model_module": "@jupyter-widgets/controls",
            "_model_module_version": "1.5.0",
            "_model_name": "HBoxModel",
            "_view_count": null,
            "_view_module": "@jupyter-widgets/controls",
            "_view_module_version": "1.5.0",
            "_view_name": "HBoxView",
            "box_style": "",
            "children": [
              "IPY_MODEL_b6b429845eeb409190431c0114148696",
              "IPY_MODEL_1dcadb15d0e5488bb5a42002716c41cd",
              "IPY_MODEL_018b957eb57e4ae3bb71666892c04dab"
            ],
            "layout": "IPY_MODEL_be98a1e423ff463290f5753ba2b939f4"
          }
        }
      }
    }
  },
  "nbformat": 4,
  "nbformat_minor": 0
}
